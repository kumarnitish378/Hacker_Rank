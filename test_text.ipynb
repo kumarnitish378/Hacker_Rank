{
 "cells": [
  {
   "cell_type": "code",
   "execution_count": 1,
   "metadata": {
    "collapsed": true
   },
   "outputs": [
    {
     "name": "stdout",
     "output_type": "stream",
     "text": [
      "Profiles on interface Wi-Fi:Group policy profiles (read only)---------------------------------    <None>User profiles-------------    All User Profile     : TECNO CAMON iSky2    All User Profile     : Nitish1    All User Profile     : KK Future    All User Profile     : vivo 1811    All User Profile     : wifi zone3    All User Profile     : vivo 1726    All User Profile     : shivom    All User Profile     : shivangi    All User Profile     : ram123    All User Profile     : le bhikhari    All User Profile     : Samsung Galaxy S8    All User Profile     : SUJIT SHARMA    All User Profile     : Nokia 1    All User Profile     : Nitish1 2 2    All User Profile     : Nitish1 2    All User Profile     : Nitish    All User Profile     : JioFi4_160D78    All User Profile     : Home wifi    All User Profile     : D-Link_DIR-600M    All User Profile     : CQAAAPI+NAIADwF/Redmi 5    All User Profile     : CQAAAIDJXtoATwHaRedmi Note 5    All User Profile     : BhIx-cHJha2FzaGt1bWFybWlzaHJh    All User Profile     : Aman    All User Profile     : Ajay mittal    All User Profile     : ASUS_X01BDA\n"
     ]
    }
   ],
   "source": [
    "a = \"Profiles on interface Wi-Fi:Group policy profiles (read only)---------------------------------    <None>User profiles-------------    All User Profile     : TECNO CAMON iSky2    All User Profile     : Nitish1    All User Profile     : KK Future    All User Profile     : vivo 1811    All User Profile     : wifi zone3    All User Profile     : vivo 1726    All User Profile     : shivom    All User Profile     : shivangi    All User Profile     : ram123    All User Profile     : le bhikhari    All User Profile     : Samsung Galaxy S8    All User Profile     : SUJIT SHARMA    All User Profile     : Nokia 1    All User Profile     : Nitish1 2 2    All User Profile     : Nitish1 2    All User Profile     : Nitish    All User Profile     : JioFi4_160D78    All User Profile     : Home wifi    All User Profile     : D-Link_DIR-600M    All User Profile     : CQAAAPI+NAIADwF/Redmi 5    All User Profile     : CQAAAIDJXtoATwHaRedmi Note 5    All User Profile     : BhIx-cHJha2FzaGt1bWFybWlzaHJh    All User Profile     : Aman    All User Profile     : Ajay mittal    All User Profile     : ASUS_X01BDA\"\n",
    "print(a)\n"
   ]
  },
  {
   "cell_type": "code",
   "execution_count": 2,
   "metadata": {},
   "outputs": [],
   "source": [
    "lst = list(map(str,a.split(\" \")))\n"
   ]
  },
  {
   "cell_type": "code",
   "execution_count": 3,
   "metadata": {},
   "outputs": [
    {
     "name": "stdout",
     "output_type": "stream",
     "text": [
      "['Profiles', 'on', 'interface', 'Wi-Fi:Group', 'policy', 'profiles', '(read', 'only)---------------------------------', '', '', '', '<None>User', 'profiles-------------', '', '', '', 'All', 'User', 'Profile', '', '', '', '', ':', 'TECNO', 'CAMON', 'iSky2', '', '', '', 'All', 'User', 'Profile', '', '', '', '', ':', 'Nitish1', '', '', '', 'All', 'User', 'Profile', '', '', '', '', ':', 'KK', 'Future', '', '', '', 'All', 'User', 'Profile', '', '', '', '', ':', 'vivo', '1811', '', '', '', 'All', 'User', 'Profile', '', '', '', '', ':', 'wifi', 'zone3', '', '', '', 'All', 'User', 'Profile', '', '', '', '', ':', 'vivo', '1726', '', '', '', 'All', 'User', 'Profile', '', '', '', '', ':', 'shivom', '', '', '', 'All', 'User', 'Profile', '', '', '', '', ':', 'shivangi', '', '', '', 'All', 'User', 'Profile', '', '', '', '', ':', 'ram123', '', '', '', 'All', 'User', 'Profile', '', '', '', '', ':', 'le', 'bhikhari', '', '', '', 'All', 'User', 'Profile', '', '', '', '', ':', 'Samsung', 'Galaxy', 'S8', '', '', '', 'All', 'User', 'Profile', '', '', '', '', ':', 'SUJIT', 'SHARMA', '', '', '', 'All', 'User', 'Profile', '', '', '', '', ':', 'Nokia', '1', '', '', '', 'All', 'User', 'Profile', '', '', '', '', ':', 'Nitish1', '2', '2', '', '', '', 'All', 'User', 'Profile', '', '', '', '', ':', 'Nitish1', '2', '', '', '', 'All', 'User', 'Profile', '', '', '', '', ':', 'Nitish', '', '', '', 'All', 'User', 'Profile', '', '', '', '', ':', 'JioFi4_160D78', '', '', '', 'All', 'User', 'Profile', '', '', '', '', ':', 'Home', 'wifi', '', '', '', 'All', 'User', 'Profile', '', '', '', '', ':', 'D-Link_DIR-600M', '', '', '', 'All', 'User', 'Profile', '', '', '', '', ':', 'CQAAAPI+NAIADwF/Redmi', '5', '', '', '', 'All', 'User', 'Profile', '', '', '', '', ':', 'CQAAAIDJXtoATwHaRedmi', 'Note', '5', '', '', '', 'All', 'User', 'Profile', '', '', '', '', ':', 'BhIx-cHJha2FzaGt1bWFybWlzaHJh', '', '', '', 'All', 'User', 'Profile', '', '', '', '', ':', 'Aman', '', '', '', 'All', 'User', 'Profile', '', '', '', '', ':', 'Ajay', 'mittal', '', '', '', 'All', 'User', 'Profile', '', '', '', '', ':', 'ASUS_X01BDA']\n"
     ]
    }
   ],
   "source": [
    "print(lst)"
   ]
  },
  {
   "cell_type": "code",
   "execution_count": 4,
   "metadata": {},
   "outputs": [
    {
     "name": "stdout",
     "output_type": "stream",
     "text": [
      "Profiles on interface Wi-Fi:Group policy profiles (read only)---------------------------------    <None>User profiles-------------    All User Profile     : TECNO CAMON iSky2    All User Profile     : Nitish1    All User Profile     : KK Future    All User Profile     : vivo 1811    All User Profile     : wifi zone3    All User Profile     : vivo 1726    All User Profile     : shivom    All User Profile     : shivangi    All User Profile     : ram123    All User Profile     : le bhikhari    All User Profile     : Samsung Galaxy S8    All User Profile     : SUJIT SHARMA    All User Profile     : Nokia 1    All User Profile     : Nitish1 2 2    All User Profile     : Nitish1 2    All User Profile     : Nitish    All User Profile     : JioFi4_160D78    All User Profile     : Home wifi    All User Profile     : D-Link_DIR-600M    All User Profile     : CQAAAPI+NAIADwF/Redmi 5    All User Profile     : CQAAAIDJXtoATwHaRedmi Note 5    All User Profile     : BhIx-cHJha2FzaGt1bWFybWlzaHJh    All User Profile     : Aman    All User Profile     : Ajay mittal    All User Profile     : ASUS_X01BDA\n"
     ]
    }
   ],
   "source": [
    "print(a)"
   ]
  },
  {
   "cell_type": "code",
   "execution_count": 5,
   "metadata": {},
   "outputs": [],
   "source": [
    "b = list(map(str,a.split(\"All User Profile     :\")))"
   ]
  },
  {
   "cell_type": "code",
   "execution_count": 6,
   "metadata": {},
   "outputs": [
    {
     "name": "stdout",
     "output_type": "stream",
     "text": [
      "['Profiles on interface Wi-Fi:Group policy profiles (read only)---------------------------------    <None>User profiles-------------    ', ' TECNO CAMON iSky2    ', ' Nitish1    ', ' KK Future    ', ' vivo 1811    ', ' wifi zone3    ', ' vivo 1726    ', ' shivom    ', ' shivangi    ', ' ram123    ', ' le bhikhari    ', ' Samsung Galaxy S8    ', ' SUJIT SHARMA    ', ' Nokia 1    ', ' Nitish1 2 2    ', ' Nitish1 2    ', ' Nitish    ', ' JioFi4_160D78    ', ' Home wifi    ', ' D-Link_DIR-600M    ', ' CQAAAPI+NAIADwF/Redmi 5    ', ' CQAAAIDJXtoATwHaRedmi Note 5    ', ' BhIx-cHJha2FzaGt1bWFybWlzaHJh    ', ' Aman    ', ' Ajay mittal    ', ' ASUS_X01BDA']\n"
     ]
    }
   ],
   "source": [
    "print(b)"
   ]
  },
  {
   "cell_type": "code",
   "execution_count": 7,
   "metadata": {},
   "outputs": [
    {
     "name": "stdout",
     "output_type": "stream",
     "text": [
      "[' Nitish1    ', ' KK Future    ', ' vivo 1811    ', ' wifi zone3    ', ' vivo 1726    ', ' shivom    ', ' shivangi    ', ' ram123    ', ' le bhikhari    ', ' Samsung Galaxy S8    ', ' SUJIT SHARMA    ', ' Nokia 1    ', ' Nitish1 2 2    ', ' Nitish1 2    ', ' Nitish    ', ' JioFi4_160D78    ', ' Home wifi    ', ' D-Link_DIR-600M    ', ' CQAAAPI+NAIADwF/Redmi 5    ', ' CQAAAIDJXtoATwHaRedmi Note 5    ', ' BhIx-cHJha2FzaGt1bWFybWlzaHJh    ', ' Aman    ', ' Ajay mittal    ', ' ASUS_X01BDA']\n"
     ]
    }
   ],
   "source": [
    "print(b[2::])"
   ]
  },
  {
   "cell_type": "code",
   "execution_count": 8,
   "metadata": {},
   "outputs": [
    {
     "name": "stdout",
     "output_type": "stream",
     "text": [
      "{' shivangi    ', ' Samsung Galaxy S8    ', ' ASUS_X01BDA', ' vivo 1811    ', ' Ajay mittal    ', ' shivom    ', ' Nitish1 2 2    ', ' Home wifi    ', ' ram123    ', ' Nitish    ', ' CQAAAIDJXtoATwHaRedmi Note 5    ', ' Nitish1    ', ' Nokia 1    ', ' le bhikhari    ', ' Aman    ', ' SUJIT SHARMA    ', ' BhIx-cHJha2FzaGt1bWFybWlzaHJh    ', ' KK Future    ', ' JioFi4_160D78    ', ' D-Link_DIR-600M    ', ' wifi zone3    ', ' vivo 1726    ', ' CQAAAPI+NAIADwF/Redmi 5    ', ' Nitish1 2    '}\n"
     ]
    }
   ],
   "source": [
    "Set = set(b[2::])\n",
    "print(Set)"
   ]
  },
  {
   "cell_type": "code",
   "execution_count": 9,
   "metadata": {},
   "outputs": [
    {
     "ename": "TypeError",
     "evalue": "'set' object does not support indexing",
     "traceback": [
      "\u001b[0;31m---------------------------------------------------------------------------\u001b[0m",
      "\u001b[0;31mTypeError\u001b[0m                                 Traceback (most recent call last)",
      "\u001b[0;32m<ipython-input-9-08860018801b>\u001b[0m in \u001b[0;36m<module>\u001b[0;34m()\u001b[0m\n\u001b[0;32m----> 1\u001b[0;31m \u001b[0mSet\u001b[0m\u001b[0;34m[\u001b[0m\u001b[0;36m0\u001b[0m\u001b[0;34m]\u001b[0m\u001b[0;34m\u001b[0m\u001b[0m\n\u001b[0m",
      "\u001b[0;31mTypeError\u001b[0m: 'set' object does not support indexing"
     ],
     "output_type": "error"
    }
   ],
   "source": [
    "Set[0]"
   ]
  },
  {
   "cell_type": "code",
   "execution_count": 10,
   "metadata": {},
   "outputs": [
    {
     "name": "stdout",
     "output_type": "stream",
     "text": [
      " Nitish1    \n KK Future    \n vivo 1811    \n wifi zone3    \n vivo 1726    \n shivom    \n shivangi    \n ram123    \n le bhikhari    \n Samsung Galaxy S8    \n SUJIT SHARMA    \n Nokia 1    \n Nitish1 2 2    \n Nitish1 2    \n Nitish    \n JioFi4_160D78    \n Home wifi    \n D-Link_DIR-600M    \n CQAAAPI+NAIADwF/Redmi 5    \n CQAAAIDJXtoATwHaRedmi Note 5    \n BhIx-cHJha2FzaGt1bWFybWlzaHJh    \n Aman    \n Ajay mittal    \n ASUS_X01BDA\n"
     ]
    }
   ],
   "source": [
    "temp = []\n",
    "for i in b[2::]:\n",
    "    print(i)"
   ]
  },
  {
   "cell_type": "code",
   "execution_count": 17,
   "metadata": {
    "collapsed": true
   },
   "outputs": [
    {
     "name": "stdout",
     "output_type": "stream",
     "text": [
      "['*Nitish1****', '*KK*Future****', '*vivo*1811****', '*wifi*zone3****', '*vivo*1726****', '*shivom****', '*shivangi****', '*ram123****', '*le*bhikhari****', '*Samsung*Galaxy*S8****', '*SUJIT*SHARMA****', '*Nokia*1****', '*Nitish1*2*2****', '*Nitish1*2****', '*Nitish****', '*JioFi4_160D78****', '*Home*wifi****', '*D-Link_DIR-600M****', '*CQAAAPI+NAIADwF/Redmi*5****', '*CQAAAIDJXtoATwHaRedmi*Note*5****', '*BhIx-cHJha2FzaGt1bWFybWlzaHJh****', '*Aman****', '*Ajay*mittal****', '*ASUS_X01BDA']\n"
     ]
    }
   ],
   "source": [
    "temp1 = []\n",
    "for i in b[2::]:\n",
    "    temp1.append(i.replace(\" \",\"*\"))\n",
    "print(temp1)"
   ]
  },
  {
   "cell_type": "code",
   "execution_count": 18,
   "metadata": {},
   "outputs": [
    {
     "name": "stdout",
     "output_type": "stream",
     "text": [
      "['Profiles on interface Wi-Fi:Group policy profiles (read only)---------------------------------    <None>User profiles-------------    ', ' TECNO CAMON iSky2    ', ' Nitish1    ', ' KK Future    ', ' vivo 1811    ', ' wifi zone3    ', ' vivo 1726    ', ' shivom    ', ' shivangi    ', ' ram123    ', ' le bhikhari    ', ' Samsung Galaxy S8    ', ' SUJIT SHARMA    ', ' Nokia 1    ', ' Nitish1 2 2    ', ' Nitish1 2    ', ' Nitish    ', ' JioFi4_160D78    ', ' Home wifi    ', ' D-Link_DIR-600M    ', ' CQAAAPI+NAIADwF/Redmi 5    ', ' CQAAAIDJXtoATwHaRedmi Note 5    ', ' BhIx-cHJha2FzaGt1bWFybWlzaHJh    ', ' Aman    ', ' Ajay mittal    ', ' ASUS_X01BDA']\n"
     ]
    }
   ],
   "source": [
    "print(b)"
   ]
  },
  {
   "cell_type": "code",
   "execution_count": 79,
   "metadata": {
    "collapsed": false
   },
   "outputs": [
    {
     "name": "stdout",
     "output_type": "stream",
     "text": [
      "Password            : 7631256855n\\r\\n\\r\\nCost s\nSSID name              : \"Nitish1\"\\r\\n  \n"
     ]
    }
   ],
   "source": [
    "import subprocess as s\n",
    "a = str(s.check_output((\"netsh wlan show profiles Nitish1 key=clear\"),shell=True))\n",
    "if \"Key Content  \" in a:\n",
    "    passw = a[a.index(\"Key Content    \"):a.index(\"Key Content  \")+50:]\n",
    "    passw = passw.replace(\"Key Content\",\"Password\")\n",
    "    print(passw)\n",
    "if \"SSID name              :\" in a :\n",
    "    print(a[a.index(\"SSID name    \"):a.index(\"SSID name    \")+40:])"
   ]
  },
  {
   "cell_type": "code",
   "execution_count": 29,
   "metadata": {},
   "outputs": [
    {
     "name": "stdout",
     "output_type": "stream",
     "text": [
      "\n"
     ]
    }
   ],
   "source": [
    "print()"
   ]
  },
  {
   "cell_type": "code",
   "execution_count": null,
   "metadata": {},
   "outputs": [],
   "source": []
  }
 ],
 "metadata": {
  "kernelspec": {
   "display_name": "Python 2",
   "language": "python",
   "name": "python2"
  },
  "language_info": {
   "codemirror_mode": {
    "name": "ipython",
    "version": 2
   },
   "file_extension": ".py",
   "mimetype": "text/x-python",
   "name": "python",
   "nbconvert_exporter": "python",
   "pygments_lexer": "ipython2",
   "version": "2.7.6"
  }
 },
 "nbformat": 4,
 "nbformat_minor": 0
}
